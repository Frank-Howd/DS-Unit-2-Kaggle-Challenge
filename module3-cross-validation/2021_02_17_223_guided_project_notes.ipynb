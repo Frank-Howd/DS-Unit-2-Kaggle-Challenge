{
  "nbformat": 4,
  "nbformat_minor": 0,
  "metadata": {
    "colab": {
      "name": "2021-02-17_223_guided-project-notes.ipynb",
      "provenance": []
    },
    "kernelspec": {
      "name": "python3",
      "display_name": "Python 3"
    },
    "accelerator": "GPU"
  },
  "cells": [
    {
      "cell_type": "markdown",
      "metadata": {
        "id": "NvWhcow-dvS8"
      },
      "source": [
        "# Cross-Validation\n",
        "\n",
        "- Do **k-fold cross-validation** with independent test set\n",
        "- Use scikit-learn for **hyperparameter optimization**"
      ]
    },
    {
      "cell_type": "code",
      "metadata": {
        "id": "HRgkCSgGdty-"
      },
      "source": [
        "%%capture\n",
        "\n",
        "import sys\n",
        "\n",
        "# If you're on Colab:\n",
        "if 'google.colab' in sys.modules:\n",
        "    DATA_PATH = 'https://raw.githubusercontent.com/LambdaSchool/DS-Unit-2-Kaggle-Challenge/master/data/'\n",
        "    !pip install category_encoders==2.*\n",
        "\n",
        "# If you're working locally:\n",
        "else:\n",
        "    DATA_PATH = '../data/'"
      ],
      "execution_count": 16,
      "outputs": []
    },
    {
      "cell_type": "code",
      "metadata": {
        "id": "HF70Jp0x4NJU"
      },
      "source": [
        "from category_encoders import OrdinalEncoder\n",
        "from sklearn.ensemble import RandomForestClassifier\n",
        "from sklearn.impute import SimpleImputer\n",
        "from sklearn.model_selection import cross_val_score\n",
        "from sklearn.model_selection import GridSearchCV, RandomizedSearchCV\n",
        "from sklearn.pipeline import make_pipeline\n",
        "from sklearn.tree import DecisionTreeClassifier\n",
        "import numpy as np\n",
        "import pandas as pd"
      ],
      "execution_count": 17,
      "outputs": []
    },
    {
      "cell_type": "markdown",
      "metadata": {
        "id": "oCBYPw7kd1AN"
      },
      "source": [
        "# I. Wrangle Data"
      ]
    },
    {
      "cell_type": "code",
      "metadata": {
        "id": "jaXMenXoZ0D6"
      },
      "source": [
        "def wrangle(fm_path, tv_path=None):\n",
        "  # Import CSV files\n",
        "  if tv_path:\n",
        "    df = pd.merge(pd.read_csv(fm_path, \n",
        "                              na_values=[0, -2.000000e-08],\n",
        "                              parse_dates=['construction_year', 'date_recorded']), \n",
        "                  pd.read_csv(tv_path)).set_index('id')\n",
        "  else:\n",
        "    df = pd.read_csv(fm_path, na_values=[0, -2.000000e-08],\n",
        "                     parse_dates=['construction_year', 'date_recorded']).set_index('id')\n",
        "\n",
        "  # Feature engineering (Credit: Mena and Keila)\n",
        "  df['pump_age'] = df['date_recorded'].dt.year - df['construction_year'].dt.year\n",
        "\n",
        "  # Drop constant and repeated columns\n",
        "  df.drop(columns=['recorded_by', 'extraction_type_group', 'quantity_group',\n",
        "                   'construction_year', 'date_recorded'], \n",
        "          inplace=True)\n",
        "  \n",
        "  # Drop columns with high % of NaN values\n",
        "  df.dropna(axis=1, thresh=len(df)*.6, inplace=True)\n",
        "\n",
        "  return df\n",
        "\n",
        "df = wrangle(fm_path=DATA_PATH+'waterpumps/train_features.csv',\n",
        "             tv_path=DATA_PATH+'waterpumps/train_labels.csv')\n",
        "\n",
        "X_test = wrangle(fm_path=DATA_PATH+'waterpumps/test_features.csv')"
      ],
      "execution_count": 18,
      "outputs": []
    },
    {
      "cell_type": "markdown",
      "metadata": {
        "id": "jetWccxMqmzY"
      },
      "source": [
        "# II. Split Data"
      ]
    },
    {
      "cell_type": "markdown",
      "metadata": {
        "id": "y-MPA0qlr-mK"
      },
      "source": [
        "## Split TV from FM"
      ]
    },
    {
      "cell_type": "code",
      "metadata": {
        "id": "r1tp2pnxqUvB"
      },
      "source": [
        "target = 'status_group'\n",
        "y_train = df[target]\n",
        "X_train = df.drop(columns=target)"
      ],
      "execution_count": 19,
      "outputs": []
    },
    {
      "cell_type": "markdown",
      "metadata": {
        "id": "n8jSWomGsLsw"
      },
      "source": [
        "# Training-Validation Split\n",
        "\n",
        "- Since we're doing k-fold CV, there's no need for a validation set."
      ]
    },
    {
      "cell_type": "markdown",
      "metadata": {
        "id": "WX9uvMMgs6J_"
      },
      "source": [
        "# III. Establish Baseline\n",
        "\n",
        "This is a **classification** problem, our baseline will be **accuracy**. "
      ]
    },
    {
      "cell_type": "code",
      "metadata": {
        "id": "bXLLxnTDs328",
        "colab": {
          "base_uri": "https://localhost:8080/"
        },
        "outputId": "dc187878-9223-4160-fd34-15231dcfba29"
      },
      "source": [
        "print('Baseline Accuracy:', y_train.value_counts(normalize=True).max())"
      ],
      "execution_count": 20,
      "outputs": [
        {
          "output_type": "stream",
          "text": [
            "Baseline Accuracy: 0.5430899510092763\n"
          ],
          "name": "stdout"
        }
      ]
    },
    {
      "cell_type": "markdown",
      "metadata": {
        "id": "MA19NsrFtgTT"
      },
      "source": [
        "# IV. Build Models\n",
        "\n",
        "- `DecisionTreeClassifier`\n",
        "- `RandomForestClassifier`"
      ]
    },
    {
      "cell_type": "code",
      "metadata": {
        "id": "YwlI3IpGlqSU"
      },
      "source": [
        "model_dt = make_pipeline(\n",
        "    OrdinalEncoder(),\n",
        "    SimpleImputer(strategy='median'),\n",
        "    DecisionTreeClassifier(random_state=42)\n",
        ")"
      ],
      "execution_count": 21,
      "outputs": []
    },
    {
      "cell_type": "code",
      "metadata": {
        "id": "6qhDnKTB_-cv"
      },
      "source": [
        "model_rf = make_pipeline(\n",
        "    OrdinalEncoder(),\n",
        "    SimpleImputer(),\n",
        "    RandomForestClassifier(n_estimators=25, random_state=42)\n",
        ")"
      ],
      "execution_count": 22,
      "outputs": []
    },
    {
      "cell_type": "markdown",
      "metadata": {
        "id": "l96Atv4REyH3"
      },
      "source": [
        "**Check cross-validation scores**"
      ]
    },
    {
      "cell_type": "code",
      "metadata": {
        "id": "01ubIToZAKaq"
      },
      "source": [
        "cv_scores_dt = cross_val_score(model_dt, X_train, y_train, n_jobs=-1)"
      ],
      "execution_count": 23,
      "outputs": []
    },
    {
      "cell_type": "code",
      "metadata": {
        "id": "nBpT5DE4FdEP"
      },
      "source": [
        "cv_scores_rf = cross_val_score(model_rf, X_train, y_train, n_jobs=-1)"
      ],
      "execution_count": null,
      "outputs": []
    },
    {
      "cell_type": "code",
      "metadata": {
        "colab": {
          "base_uri": "https://localhost:8080/"
        },
        "id": "djq0XoF5nDgG",
        "outputId": "ef441c45-9de1-45ac-c9ef-5b2f1ef8e3bd"
      },
      "source": [
        "print('CV score DecisionTreeClassifier')\n",
        "print(cv_scores_dt)\n",
        "print('Mean CV accuracy score:', cv_scores_dt.mean())\n",
        "print('STD CV accuracy score:', cv_scores_dt.std())"
      ],
      "execution_count": 25,
      "outputs": [
        {
          "output_type": "stream",
          "text": [
            "CV score DecisionTreeClassifier\n",
            "[0.70505051 0.69545455 0.71574074 0.703367   0.70940315]\n",
            "Mean CV accuracy score: 0.7058031886051921\n",
            "STD CV accuracy score: 0.006712832474797317\n"
          ],
          "name": "stdout"
        }
      ]
    },
    {
      "cell_type": "code",
      "metadata": {
        "colab": {
          "base_uri": "https://localhost:8080/"
        },
        "id": "tNZXNi-ZnenS",
        "outputId": "39a8e6c1-7576-4abf-95f0-b7f983271fee"
      },
      "source": [
        "print('CV score RandomForestClassifier')\n",
        "print(cv_scores_rf)\n",
        "print('Mean CV accuracy score:', cv_scores_rf.mean())\n",
        "print('STD CV accuracy score:', cv_scores_rf.std())"
      ],
      "execution_count": 26,
      "outputs": [
        {
          "output_type": "stream",
          "text": [
            "CV score RandomForestClassifier\n",
            "[0.80218855 0.80042088 0.80328283 0.80294613 0.79914134]\n",
            "Mean CV accuracy score: 0.8015959451404354\n",
            "STD CV accuracy score: 0.001576427451542507\n"
          ],
          "name": "stdout"
        }
      ]
    },
    {
      "cell_type": "markdown",
      "metadata": {
        "id": "RNHrlq7zA0kM"
      },
      "source": [
        "# V. Tune Model\n",
        "\n",
        "- What are important hyperparameters for `RandomForestClassifier`?\n",
        "  - `max_depth`: 5-35\n",
        "  - `n_estimators` 25-100\n",
        "  - imputation strategy"
      ]
    },
    {
      "cell_type": "markdown",
      "metadata": {
        "id": "SRL-I2ensgom"
      },
      "source": [
        "**`GridSearch`:** Very thourough, but it can take a long time."
      ]
    },
    {
      "cell_type": "code",
      "metadata": {
        "id": "NcndCxbMsf81",
        "colab": {
          "base_uri": "https://localhost:8080/"
        },
        "outputId": "9c2ac826-da39-43ec-c98e-e754cb6bd413"
      },
      "source": [
        "estimator = make_pipeline(\n",
        "    OrdinalEncoder(),\n",
        "    SimpleImputer(),\n",
        "    RandomForestClassifier(random_state=42)\n",
        ")\n",
        "\n",
        "params = {\n",
        "    'simpleimputer__strategy': ['mean', 'median'],\n",
        "    'randomforestclassifier__n_estimators': [25, 50, 75, 100],\n",
        "    'randomforestclassifier__max_depth': range(5, 36, 5)\n",
        "}\n",
        "\n",
        "model_gs = GridSearchCV(\n",
        "    estimator,\n",
        "    param_grid=params,\n",
        "    cv=5,\n",
        "    n_jobs=-1,\n",
        "    verbose=1\n",
        ")\n",
        "\n",
        "model_gs.fit(X_train, y_train);"
      ],
      "execution_count": 28,
      "outputs": [
        {
          "output_type": "stream",
          "text": [
            "Fitting 5 folds for each of 56 candidates, totalling 280 fits\n"
          ],
          "name": "stdout"
        },
        {
          "output_type": "stream",
          "text": [
            "[Parallel(n_jobs=-1)]: Using backend LokyBackend with 2 concurrent workers.\n",
            "[Parallel(n_jobs=-1)]: Done  46 tasks      | elapsed:  1.6min\n",
            "[Parallel(n_jobs=-1)]: Done 196 tasks      | elapsed: 12.9min\n",
            "[Parallel(n_jobs=-1)]: Done 280 out of 280 | elapsed: 20.3min finished\n"
          ],
          "name": "stderr"
        }
      ]
    },
    {
      "cell_type": "code",
      "metadata": {
        "colab": {
          "base_uri": "https://localhost:8080/"
        },
        "id": "LjL6C8GdSMq8",
        "outputId": "bc70123a-840a-45f3-b071-84be3f77879a"
      },
      "source": [
        "model_gs.best_params_"
      ],
      "execution_count": 29,
      "outputs": [
        {
          "output_type": "execute_result",
          "data": {
            "text/plain": [
              "{'randomforestclassifier__max_depth': 20,\n",
              " 'randomforestclassifier__n_estimators': 100,\n",
              " 'simpleimputer__strategy': 'mean'}"
            ]
          },
          "metadata": {
            "tags": []
          },
          "execution_count": 29
        }
      ]
    },
    {
      "cell_type": "code",
      "metadata": {
        "colab": {
          "base_uri": "https://localhost:8080/"
        },
        "id": "1YPzKWIZS3Aw",
        "outputId": "9f24d03c-cf9d-4ef4-ad33-31692a0274ec"
      },
      "source": [
        "model_gs.best_score_"
      ],
      "execution_count": 32,
      "outputs": [
        {
          "output_type": "execute_result",
          "data": {
            "text/plain": [
              "0.8090203292855032"
            ]
          },
          "metadata": {
            "tags": []
          },
          "execution_count": 32
        }
      ]
    },
    {
      "cell_type": "markdown",
      "metadata": {
        "id": "UPvNOV6Cw1Zl"
      },
      "source": [
        "**`RandomizedSearchCV`:** Quicker, less effective but usually good enough."
      ]
    },
    {
      "cell_type": "code",
      "metadata": {
        "id": "adt6fIdM4qMf"
      },
      "source": [
        "model_rs = RandomizedSearchCV(\n",
        "    estimator,\n",
        "    param_distributions=params,\n",
        "    n_iter=3,\n",
        "    cv=5,\n",
        "    n_jobs=-1,\n",
        "    verbose=1\n",
        ")\n",
        "\n",
        "#model_rs.fit(X_train, y_train);"
      ],
      "execution_count": 27,
      "outputs": []
    },
    {
      "cell_type": "markdown",
      "metadata": {
        "id": "mc4-86wQ0xfX"
      },
      "source": [
        "# Make Submission"
      ]
    },
    {
      "cell_type": "code",
      "metadata": {
        "id": "OSSGDxke48-6"
      },
      "source": [
        "y_pred = model_gs.predict(X_test)"
      ],
      "execution_count": 31,
      "outputs": []
    },
    {
      "cell_type": "code",
      "metadata": {
        "id": "KPGntcGjSmzs"
      },
      "source": [
        "submission = pd.DataFrame({'status_group': y_pred}, index=X_test.index)"
      ],
      "execution_count": 43,
      "outputs": []
    },
    {
      "cell_type": "code",
      "metadata": {
        "id": "UShomPQuTzEO"
      },
      "source": [
        "submission.to_csv('2021-02-17_submission.csv')"
      ],
      "execution_count": 45,
      "outputs": []
    },
    {
      "cell_type": "markdown",
      "metadata": {
        "id": "gdPydrAciFvW"
      },
      "source": [
        "# VI. Communicate Results\n",
        "\n",
        "**Showing Feature Importance**"
      ]
    },
    {
      "cell_type": "markdown",
      "metadata": {
        "id": "orrZCcWqj0Wu"
      },
      "source": [
        "Plot the feature importance for our `RandomForest` model."
      ]
    },
    {
      "cell_type": "code",
      "metadata": {
        "id": "J8qpGERuPiAg"
      },
      "source": [
        ""
      ],
      "execution_count": 27,
      "outputs": []
    }
  ]
}