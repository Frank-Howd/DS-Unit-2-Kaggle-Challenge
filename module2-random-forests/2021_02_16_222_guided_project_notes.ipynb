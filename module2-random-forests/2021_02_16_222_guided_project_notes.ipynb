{
  "nbformat": 4,
  "nbformat_minor": 0,
  "metadata": {
    "colab": {
      "name": "2021-02-16_222_guided-project-notes.ipynb",
      "provenance": []
    },
    "kernelspec": {
      "name": "python3",
      "display_name": "Python 3"
    }
  },
  "cells": [
    {
      "cell_type": "markdown",
      "metadata": {
        "id": "NvWhcow-dvS8"
      },
      "source": [
        "# Random Forests\n",
        "\n",
        "- use scikit-learn for **random forests**\n",
        "- do **ordinal encoding** with high-cardinality categoricals\n",
        "- understand how categorical encodings affect trees differently compared to linear models\n",
        "- understand how tree ensembles reduce overfitting compared to a single decision tree with unlimited depth"
      ]
    },
    {
      "cell_type": "code",
      "metadata": {
        "id": "HRgkCSgGdty-"
      },
      "source": [
        "%%capture\n",
        "\n",
        "import sys\n",
        "\n",
        "# If you're on Colab:\n",
        "if 'google.colab' in sys.modules:\n",
        "    DATA_PATH = 'https://raw.githubusercontent.com/LambdaSchool/DS-Unit-2-Kaggle-Challenge/master/data/'\n",
        "    !pip install category_encoders==2.*\n",
        "\n",
        "# If you're working locally:\n",
        "else:\n",
        "    DATA_PATH = '../data/'"
      ],
      "execution_count": 1,
      "outputs": []
    },
    {
      "cell_type": "code",
      "metadata": {
        "id": "BiJT7wGsuXcG"
      },
      "source": [
        "from category_encoders import OrdinalEncoder\n",
        "from sklearn.ensemble import RandomForestClassifier\n",
        "from sklearn.impute import SimpleImputer\n",
        "from sklearn.model_selection import train_test_split\n",
        "from sklearn.pipeline import make_pipeline\n",
        "from sklearn.tree import DecisionTreeClassifier\n",
        "import matplotlib.pyplot as plt\n",
        "import pandas as pd\n",
        "import numpy as np"
      ],
      "execution_count": 48,
      "outputs": []
    },
    {
      "cell_type": "markdown",
      "metadata": {
        "id": "oCBYPw7kd1AN"
      },
      "source": [
        "# I. Wrangle Data"
      ]
    },
    {
      "cell_type": "code",
      "metadata": {
        "id": "GB03VuwJOvhF"
      },
      "source": [
        "def wrangle(fm_path, tv_path=None):\n",
        "  # Import CSV files\n",
        "  if tv_path:\n",
        "    df = pd.merge(pd.read_csv(fm_path, \n",
        "                              na_values=[0, -2.000000e-08],\n",
        "                              parse_dates=['construction_year', 'date_recorded']), \n",
        "                  pd.read_csv(tv_path)).set_index('id')\n",
        "  else:\n",
        "    df = pd.read_csv(fm_path, na_values=[0, -2.000000e-08],\n",
        "                     parse_dates=['construction_year', 'date_recorded']).set_index('id')\n",
        "\n",
        "  # Feature engineering (Credit: Mena and Keila)\n",
        "  df['pump_age'] = df['date_recorded'].dt.year - df['construction_year'].dt.year\n",
        "\n",
        "  # Drop constant and repeated columns\n",
        "  df.drop(columns=['recorded_by', 'extraction_type_group', 'quantity_group',\n",
        "                   'construction_year', 'date_recorded'], \n",
        "          inplace=True)\n",
        "  \n",
        "  # Drop columns with high % of NaN values\n",
        "  df.dropna(axis=1, thresh=len(df)*.6, inplace=True)\n",
        "\n",
        "  return df\n",
        "\n",
        "df = wrangle(fm_path=DATA_PATH+'waterpumps/train_features.csv',\n",
        "             tv_path=DATA_PATH+'waterpumps/train_labels.csv')\n",
        "\n",
        "X_test = wrangle(fm_path=DATA_PATH+'waterpumps/test_features.csv')"
      ],
      "execution_count": 35,
      "outputs": []
    },
    {
      "cell_type": "markdown",
      "metadata": {
        "id": "jetWccxMqmzY"
      },
      "source": [
        "# II. Split Data"
      ]
    },
    {
      "cell_type": "markdown",
      "metadata": {
        "id": "y-MPA0qlr-mK"
      },
      "source": [
        "## Split TV from FM"
      ]
    },
    {
      "cell_type": "code",
      "metadata": {
        "id": "r1tp2pnxqUvB"
      },
      "source": [
        "target = 'status_group'\n",
        "y = df[target]\n",
        "X = df.drop(columns=target)"
      ],
      "execution_count": 37,
      "outputs": []
    },
    {
      "cell_type": "markdown",
      "metadata": {
        "id": "n8jSWomGsLsw"
      },
      "source": [
        "# Training-Validation Split\n",
        "\n",
        "- Randomized split"
      ]
    },
    {
      "cell_type": "code",
      "metadata": {
        "id": "cPYl62lisKza"
      },
      "source": [
        "X_train, X_val, y_train, y_val = train_test_split(X, y, test_size=0.2, random_state=42)\n",
        "\n",
        "# Sanity check\n",
        "assert len(X_train) + len(X_val) == len(X)"
      ],
      "execution_count": 38,
      "outputs": []
    },
    {
      "cell_type": "markdown",
      "metadata": {
        "id": "WX9uvMMgs6J_"
      },
      "source": [
        "# III. Establish Baseline\n",
        "\n",
        "This is a **classification** problem, our baseline will be **accuracy**. "
      ]
    },
    {
      "cell_type": "code",
      "metadata": {
        "id": "bXLLxnTDs328",
        "colab": {
          "base_uri": "https://localhost:8080/"
        },
        "outputId": "6b3fefbd-7f18-49b2-b640-e837b73085af"
      },
      "source": [
        "print('Baseline Accuracy:', y_train.value_counts(normalize=True).max())"
      ],
      "execution_count": 39,
      "outputs": [
        {
          "output_type": "stream",
          "text": [
            "Baseline Accuracy: 0.5425829668132747\n"
          ],
          "name": "stdout"
        }
      ]
    },
    {
      "cell_type": "markdown",
      "metadata": {
        "id": "MA19NsrFtgTT"
      },
      "source": [
        "# IV. Build Model(s)\n",
        "\n",
        "- Missing values\n",
        "- Categorical values"
      ]
    },
    {
      "cell_type": "code",
      "metadata": {
        "id": "4m_3ManIjYCB"
      },
      "source": [
        "tree_model = make_pipeline(\n",
        "    OrdinalEncoder(), # No OHE high-cardinality categorical features with trees\n",
        "    SimpleImputer(strategy='median'),\n",
        "    DecisionTreeClassifier(random_state=42)\n",
        ")\n",
        "\n",
        "tree_model.fit(X_train, y_train);"
      ],
      "execution_count": 42,
      "outputs": []
    },
    {
      "cell_type": "code",
      "metadata": {
        "id": "KDa3nWmQAr0o"
      },
      "source": [
        "rf_model = make_pipeline(\n",
        "    OrdinalEncoder(), # No OHE high-cardinality categorical features with trees\n",
        "    SimpleImputer(strategy='median'), \n",
        "    RandomForestClassifier(random_state=42,\n",
        "                           n_jobs=-1)   \n",
        ")\n",
        "\n",
        "rf_model.fit(X_train, y_train);"
      ],
      "execution_count": 45,
      "outputs": []
    },
    {
      "cell_type": "markdown",
      "metadata": {
        "id": "v7Cr2n7Vu9cb"
      },
      "source": [
        "# V. Check Metrics"
      ]
    },
    {
      "cell_type": "code",
      "metadata": {
        "id": "K1bncI7svKf3",
        "colab": {
          "base_uri": "https://localhost:8080/"
        },
        "outputId": "081a960e-0593-4dd9-cae9-e521a3b86c85"
      },
      "source": [
        "print('TREE: Training Accuracy:', tree_model.score(X_train, y_train))\n",
        "print('TREE: Validation Accuracy:', tree_model.score(X_val, y_val))"
      ],
      "execution_count": 41,
      "outputs": [
        {
          "output_type": "stream",
          "text": [
            "TREE: Training Accuracy: 0.9999579115722133\n",
            "TREE: Validation Accuracy: 0.7102693602693603\n"
          ],
          "name": "stdout"
        }
      ]
    },
    {
      "cell_type": "code",
      "metadata": {
        "colab": {
          "base_uri": "https://localhost:8080/"
        },
        "id": "br2QGU6MkcsR",
        "outputId": "ee2352aa-ae95-4117-bdca-ebc4414d03de"
      },
      "source": [
        "print('FOREST: Training Accuracy:', rf_model.score(X_train, y_train))\n",
        "print('FOREST: Validation Accuracy:', rf_model.score(X_val, y_val))"
      ],
      "execution_count": 46,
      "outputs": [
        {
          "output_type": "stream",
          "text": [
            "FOREST: Training Accuracy: 0.9999158231444264\n",
            "FOREST: Validation Accuracy: 0.8071548821548822\n"
          ],
          "name": "stdout"
        }
      ]
    },
    {
      "cell_type": "markdown",
      "metadata": {
        "id": "1JoBVbzpQeQ0"
      },
      "source": [
        "# VI. Tune Model\n",
        "\n",
        "More depth -> more flexibility -> possibly more overfitting"
      ]
    },
    {
      "cell_type": "code",
      "metadata": {
        "id": "AD0oXiUoD0LV"
      },
      "source": [
        "samples = np.arange(0.2, 1, 0.1)\n",
        "\n",
        "train_acc = []\n",
        "val_acc = []\n",
        "\n",
        "for sample in samples:\n",
        "  tree_model = make_pipeline(\n",
        "      OrdinalEncoder(),\n",
        "      SimpleImputer(strategy='mean'),\n",
        "      RandomForestClassifier(n_estimators=25,\n",
        "                             n_jobs=-1,\n",
        "                             random_state=42,\n",
        "                             max_samples=sample)\n",
        "  )\n",
        "  tree_model.fit(X_train, y_train)\n",
        "\n",
        "  train_acc.append(tree_model.score(X_train, y_train))\n",
        "  val_acc.append(tree_model.score(X_val, y_val))"
      ],
      "execution_count": 49,
      "outputs": []
    },
    {
      "cell_type": "code",
      "metadata": {
        "colab": {
          "base_uri": "https://localhost:8080/",
          "height": 280
        },
        "id": "fAYegEJOD7_8",
        "outputId": "505ce7c7-7938-4962-94f8-181c5dbe18b4"
      },
      "source": [
        "plt.plot(samples, train_acc, label='training')\n",
        "plt.plot(samples, val_acc, label='validation')\n",
        "plt.xlabel('max_samples')\n",
        "plt.ylabel('accuracy score')\n",
        "plt.legend();"
      ],
      "execution_count": 50,
      "outputs": [
        {
          "output_type": "display_data",
          "data": {
            "image/png": "[encoded data removed]",
            "text/plain": [
              "<Figure size 432x288 with 1 Axes>"
            ]
          },
          "metadata": {
            "tags": [],
            "needs_background": "light"
          }
        }
      ]
    },
    {
      "cell_type": "code",
      "metadata": {
        "id": "NpbLpbUxFgd5"
      },
      "source": [
        "depths = range(2, 42, 2)\n",
        "\n",
        "train_acc = []\n",
        "val_acc = []\n",
        "\n",
        "for depth in depths:\n",
        "  tree_model = make_pipeline(\n",
        "      OrdinalEncoder(),\n",
        "      SimpleImputer(strategy='mean'),\n",
        "      RandomForestClassifier(n_estimators=25,\n",
        "                             max_depth=depth,\n",
        "                             n_jobs=-1,\n",
        "                             random_state=42)\n",
        "  )\n",
        "  tree_model.fit(X_train, y_train)\n",
        "\n",
        "  train_acc.append(tree_model.score(X_train, y_train))\n",
        "  val_acc.append(tree_model.score(X_val, y_val))"
      ],
      "execution_count": 52,
      "outputs": []
    },
    {
      "cell_type": "code",
      "metadata": {
        "colab": {
          "base_uri": "https://localhost:8080/",
          "height": 280
        },
        "id": "eEe7jRblGMK-",
        "outputId": "1b6980e4-9815-4846-d568-e2044997bc37"
      },
      "source": [
        "plt.plot(depths, train_acc, label='training')\n",
        "plt.plot(depths, val_acc, label='validation')\n",
        "plt.xlabel('max_depth')\n",
        "plt.ylabel('accuracy score')\n",
        "plt.legend();"
      ],
      "execution_count": 54,
      "outputs": [
        {
          "output_type": "display_data",
          "data": {
            "image/png": "[encoded data removed]",
            "text/plain": [
              "<Figure size 432x288 with 1 Axes>"
            ]
          },
          "metadata": {
            "tags": [],
            "needs_background": "light"
          }
        }
      ]
    },
    {
      "cell_type": "markdown",
      "metadata": {
        "id": "zw5mir81QglM"
      },
      "source": [
        "# VII. Communicate Results"
      ]
    },
    {
      "cell_type": "code",
      "metadata": {
        "colab": {
          "base_uri": "https://localhost:8080/",
          "height": 297
        },
        "id": "UOGSy8PoGLok",
        "outputId": "13b109ce-dadf-41f5-b846-796131320989"
      },
      "source": [
        "importances = rf_model.named_steps['randomforestclassifier'].feature_importances_\n",
        "features = X_train.columns\n",
        "\n",
        "feat_imp = pd.Series(importances, index=features).sort_values()\n",
        "feat_imp.tail(10).plot(kind='barh')\n",
        "plt.xlabel('Gini Importance')"
      ],
      "execution_count": 71,
      "outputs": [
        {
          "output_type": "execute_result",
          "data": {
            "text/plain": [
              "Text(0.5, 0, 'Gini Importance')"
            ]
          },
          "metadata": {
            "tags": []
          },
          "execution_count": 71
        },
        {
          "output_type": "display_data",
          "data": {
            "image/png": "[encoded data removed]",
            "text/plain": [
              "<Figure size 432x288 with 1 Axes>"
            ]
          },
          "metadata": {
            "tags": [],
            "needs_background": "light"
          }
        }
      ]
    },
    {
      "cell_type": "code",
      "metadata": {
        "id": "E22k2Qw7hAcd",
        "colab": {
          "base_uri": "https://localhost:8080/"
        },
        "outputId": "02cc0aea-5448-4f54-da3c-93e50a9293a4"
      },
      "source": [
        "feat_imp.sum()"
      ],
      "execution_count": 66,
      "outputs": [
        {
          "output_type": "execute_result",
          "data": {
            "text/plain": [
              "1.0"
            ]
          },
          "metadata": {
            "tags": []
          },
          "execution_count": 66
        }
      ]
    },
    {
      "cell_type": "code",
      "metadata": {
        "id": "VfZpNbHCIk_L"
      },
      "source": [
        ""
      ],
      "execution_count": null,
      "outputs": []
    }
  ]
}