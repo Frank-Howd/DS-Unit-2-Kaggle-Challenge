{
  "nbformat": 4,
  "nbformat_minor": 0,
  "metadata": {
    "colab": {
      "name": "2021-02-15_221_guided-project-notes.ipynb",
      "provenance": []
    },
    "kernelspec": {
      "name": "python3",
      "display_name": "Python 3"
    }
  },
  "cells": [
    {
      "cell_type": "code",
      "metadata": {
        "id": "HRgkCSgGdty-"
      },
      "source": [
        "%%capture\n",
        "\n",
        "import sys\n",
        "\n",
        "# If you're on Colab:\n",
        "if 'google.colab' in sys.modules:\n",
        "    DATA_PATH = 'https://raw.githubusercontent.com/LambdaSchool/DS-Unit-2-Kaggle-Challenge/master/data/'\n",
        "    !pip install category_encoders==2.*\n",
        "    !pip install pandas-profiling==2.*\n",
        "\n",
        "# If you're working locally:\n",
        "else:\n",
        "    DATA_PATH = '../data/'"
      ],
      "execution_count": 1,
      "outputs": []
    },
    {
      "cell_type": "code",
      "metadata": {
        "colab": {
          "base_uri": "https://localhost:8080/"
        },
        "id": "Zp1eAYDMlLvn",
        "outputId": "3655eeb1-c77d-45f5-f220-11d368f06d2f"
      },
      "source": [
        "from category_encoders import OneHotEncoder, OrdinalEncoder\n",
        "from pandas_profiling import ProfileReport\n",
        "from sklearn.feature_selection import SelectKBest\n",
        "from sklearn.impute import SimpleImputer\n",
        "from sklearn.linear_model import LogisticRegression\n",
        "from sklearn.model_selection import train_test_split\n",
        "from sklearn.pipeline import make_pipeline\n",
        "from sklearn.preprocessing import StandardScaler\n",
        "from sklearn.tree import DecisionTreeClassifier\n",
        "from sklearn.tree import export_graphviz\n",
        "import graphviz\n",
        "import matplotlib.pyplot as plt\n",
        "import pandas as pd"
      ],
      "execution_count": 2,
      "outputs": [
        {
          "output_type": "stream",
          "text": [
            "/usr/local/lib/python3.6/dist-packages/statsmodels/tools/_testing.py:19: FutureWarning: pandas.util.testing is deprecated. Use the functions in the public API at pandas.testing instead.\n",
            "  import pandas.util.testing as tm\n"
          ],
          "name": "stderr"
        }
      ]
    },
    {
      "cell_type": "markdown",
      "metadata": {
        "id": "NvWhcow-dvS8"
      },
      "source": [
        "# Decision Trees\n",
        "\n",
        "- clean data with **outliers and missing values**\n",
        "- use scikit-learn **pipelines**\n",
        "- use scikit-learn for **decision trees**\n",
        "- get and interpret **feature importances** of a tree-based model\n",
        "- understand why decision trees are useful to model "
      ]
    },
    {
      "cell_type": "markdown",
      "metadata": {
        "id": "oCBYPw7kd1AN"
      },
      "source": [
        "# I. Wrangle Data"
      ]
    },
    {
      "cell_type": "code",
      "metadata": {
        "id": "IASHKS03u9Ia"
      },
      "source": [
        "def wrangle(fm_path, tv_path=None):\n",
        "  if tv_path:\n",
        "    df = pd.merge(pd.read_csv(fm_path, na_values=[0, -2.000000e-08]), \n",
        "                  pd.read_csv(tv_path)).set_index('id')\n",
        "  else:\n",
        "    df = pd.read_csv(fm_path, na_values=[0, -2.000000e-08]).set_index('id')\n",
        "\n",
        "  # Drop constant and repeated columns\n",
        "  df.drop(columns=['recorded_by', 'extraction_type_group', 'quantity_group'], \n",
        "          inplace=True)\n",
        "  \n",
        "  # Drop columns with high % of NaN values\n",
        "  df.dropna(axis=1, thresh=len(df)*.8, inplace=True)\n",
        "\n",
        "  return df"
      ],
      "execution_count": 3,
      "outputs": []
    },
    {
      "cell_type": "code",
      "metadata": {
        "id": "nfjGYSTdvW1A"
      },
      "source": [
        "df = wrangle(fm_path=DATA_PATH+'waterpumps/train_features.csv',\n",
        "             tv_path=DATA_PATH+'waterpumps/train_labels.csv')\n",
        "\n",
        "X_test = wrangle(fm_path=DATA_PATH+'waterpumps/test_features.csv')"
      ],
      "execution_count": 4,
      "outputs": []
    },
    {
      "cell_type": "code",
      "metadata": {
        "colab": {
          "base_uri": "https://localhost:8080/"
        },
        "id": "eSlyE5oR1uVe",
        "outputId": "c2e603ec-0b68-43e5-ddd3-7fa090c0f13f"
      },
      "source": [
        "# Check to see if the same columns are in training and test sets\n",
        "set(df.columns).difference(set(X_test.columns))"
      ],
      "execution_count": 5,
      "outputs": [
        {
          "output_type": "execute_result",
          "data": {
            "text/plain": [
              "{'status_group'}"
            ]
          },
          "metadata": {
            "tags": []
          },
          "execution_count": 5
        }
      ]
    },
    {
      "cell_type": "markdown",
      "metadata": {
        "id": "jetWccxMqmzY"
      },
      "source": [
        "# II. Split Data"
      ]
    },
    {
      "cell_type": "markdown",
      "metadata": {
        "id": "y-MPA0qlr-mK"
      },
      "source": [
        "## Split TV from FM"
      ]
    },
    {
      "cell_type": "code",
      "metadata": {
        "id": "r1tp2pnxqUvB"
      },
      "source": [
        "target = 'status_group'\n",
        "y = df[target]\n",
        "X = df.drop(columns=target)"
      ],
      "execution_count": 6,
      "outputs": []
    },
    {
      "cell_type": "markdown",
      "metadata": {
        "id": "n8jSWomGsLsw"
      },
      "source": [
        "## Training-Validation Split"
      ]
    },
    {
      "cell_type": "code",
      "metadata": {
        "id": "cPYl62lisKza"
      },
      "source": [
        "X_train, X_val, y_train, y_val = train_test_split(X, y, test_size=0.2, random_state=42)"
      ],
      "execution_count": 7,
      "outputs": []
    },
    {
      "cell_type": "markdown",
      "metadata": {
        "id": "WX9uvMMgs6J_"
      },
      "source": [
        "# III. Establish Baseline\n",
        "\n",
        "- Is this a *regression* or a *classification* problem?\n",
        "- Because it's a **classification** problem, we need to calculate baseline accuracy based on our majority class. "
      ]
    },
    {
      "cell_type": "code",
      "metadata": {
        "colab": {
          "base_uri": "https://localhost:8080/"
        },
        "id": "C67GfyYA31Ia",
        "outputId": "ff7e1a9b-dd4d-45bf-d7e9-12b8fc0ce1f1"
      },
      "source": [
        "y_train.value_counts(normalize=True)"
      ],
      "execution_count": 8,
      "outputs": [
        {
          "output_type": "execute_result",
          "data": {
            "text/plain": [
              "functional                 0.542583\n",
              "non functional             0.384352\n",
              "functional needs repair    0.073066\n",
              "Name: status_group, dtype: float64"
            ]
          },
          "metadata": {
            "tags": []
          },
          "execution_count": 8
        }
      ]
    },
    {
      "cell_type": "code",
      "metadata": {
        "id": "bXLLxnTDs328",
        "colab": {
          "base_uri": "https://localhost:8080/"
        },
        "outputId": "cda68682-d076-4c03-9ca9-d6367ca3ede2"
      },
      "source": [
        "print('Baseline Accuracy:', y_train.value_counts(normalize=True).max())"
      ],
      "execution_count": 9,
      "outputs": [
        {
          "output_type": "stream",
          "text": [
            "Baseline Accuracy: 0.5425829668132747\n"
          ],
          "name": "stdout"
        }
      ]
    },
    {
      "cell_type": "markdown",
      "metadata": {
        "id": "MA19NsrFtgTT"
      },
      "source": [
        "# IV. Build Model(s)"
      ]
    },
    {
      "cell_type": "markdown",
      "metadata": {
        "id": "Q2_AEFsZKGCK"
      },
      "source": [
        "**First Model:** Logistic Regression"
      ]
    },
    {
      "cell_type": "code",
      "metadata": {
        "colab": {
          "base_uri": "https://localhost:8080/"
        },
        "id": "aJeK7LOTlUjf",
        "outputId": "0c52e088-8df0-4362-adfa-5f4d2c4ca112"
      },
      "source": [
        "# model_lr = make_pipeline(\n",
        "#     OneHotEncoder(use_cat_names=True),\n",
        "#     SimpleImputer(),\n",
        "#     StandardScaler(),\n",
        "#     LogisticRegression()\n",
        "# )\n",
        "\n",
        "# model_lr.fit(X_train, y_train);"
      ],
      "execution_count": null,
      "outputs": [
        {
          "output_type": "stream",
          "text": [
            "/usr/local/lib/python3.6/dist-packages/category_encoders/utils.py:21: FutureWarning: is_categorical is deprecated and will be removed in a future version.  Use is_categorical_dtype instead\n",
            "  elif pd.api.types.is_categorical(cols):\n"
          ],
          "name": "stderr"
        }
      ]
    },
    {
      "cell_type": "markdown",
      "metadata": {
        "id": "AMFtqMtkMbRw"
      },
      "source": [
        "**Second Model:** Decision Tree Classifier"
      ]
    },
    {
      "cell_type": "code",
      "metadata": {
        "id": "V5Ys_hEblVng"
      },
      "source": [
        "model_dt = make_pipeline(\n",
        "    OrdinalEncoder(),\n",
        "    SimpleImputer(),\n",
        "    DecisionTreeClassifier()\n",
        ")\n",
        "\n",
        "model_dt.fit(X_train, y_train);"
      ],
      "execution_count": 11,
      "outputs": []
    },
    {
      "cell_type": "markdown",
      "metadata": {
        "id": "v7Cr2n7Vu9cb"
      },
      "source": [
        "# V. Check Metrics"
      ]
    },
    {
      "cell_type": "code",
      "metadata": {
        "id": "CMaeNs6ySKlB"
      },
      "source": [
        "print('Logistic Regresion training accuracy:', model_lr.score(X_train, y_train))\n",
        "print('Logistic Regresion validation accuracy:', model_lr.score(X_val, y_val))"
      ],
      "execution_count": null,
      "outputs": []
    },
    {
      "cell_type": "code",
      "metadata": {
        "id": "qMu_7nUPj4Qe",
        "colab": {
          "base_uri": "https://localhost:8080/"
        },
        "outputId": "72db4411-f8bd-4c86-a0a3-4fa18154913a"
      },
      "source": [
        "print('Decision Tree training accuracy:', model_dt.score(X_train, y_train))\n",
        "print('Decision Tree validation accuracy:', model_dt.score(X_val, y_val))"
      ],
      "execution_count": 12,
      "outputs": [
        {
          "output_type": "stream",
          "text": [
            "Decision Tree training accuracy: 0.9999789557861066\n",
            "Decision Tree validation accuracy: 0.6975589225589226\n"
          ],
          "name": "stdout"
        }
      ]
    },
    {
      "cell_type": "markdown",
      "metadata": {
        "id": "D63CwGlVvtSu"
      },
      "source": [
        "# Interlude: How does a tree model work?"
      ]
    },
    {
      "cell_type": "code",
      "metadata": {
        "id": "4h2W_jO7SW0r",
        "colab": {
          "base_uri": "https://localhost:8080/",
          "height": 575
        },
        "outputId": "ae63a9ca-247b-4bf0-b2d9-c03c7f6c1e4b"
      },
      "source": [
        "dot_data = export_graphviz(model_dt.named_steps['decisiontreeclassifier'], \n",
        "                           out_file=None, \n",
        "                           max_depth=3, \n",
        "                           feature_names=X_train.columns,\n",
        "                           impurity=False, \n",
        "                           filled=True, \n",
        "                           proportion=True, \n",
        "                           rounded=True)   \n",
        "\n",
        "display(graphviz.Source(dot_data))"
      ],
      "execution_count": 13,
      "outputs": [
        {
          "output_type": "display_data",
          "data": {
            "text/plain": [
              "<graphviz.files.Source at 0x7fcda8b0db70>"
            ],
            "image/svg+xml": "<?xml version=\"1.0\" encoding=\"UTF-8\" standalone=\"no\"?>\n<!DOCTYPE svg PUBLIC \"-//W3C//DTD SVG 1.1//EN\"\n \"http://www.w3.org/Graphics/SVG/1.1/DTD/svg11.dtd\">\n<!-- Generated by graphviz version 2.40.1 (20161225.0304)\n -->\n<!-- Title: Tree Pages: 1 -->\n<svg width=\"1694pt\" height=\"400pt\"\n viewBox=\"0.00 0.00 1694.00 400.00\" xmlns=\"http://www.w3.org/2000/svg\" xmlns:xlink=\"http://www.w3.org/1999/xlink\">\n<g id=\"graph0\" class=\"graph\" transform=\"scale(1 1) rotate(0) translate(4 396)\">\n<title>Tree</title>\n<polygon fill=\"#ffffff\" stroke=\"transparent\" points=\"-4,4 -4,-396 1690,-396 1690,4 -4,4\"/>\n<!-- 0 -->\n<g id=\"node1\" class=\"node\">\n<title>0</title>\n<path fill=\"#f8dfcc\" stroke=\"#000000\" d=\"M927,-392C927,-392 751,-392 751,-392 745,-392 739,-386 739,-380 739,-380 739,-351 739,-351 739,-345 745,-339 751,-339 751,-339 927,-339 927,-339 933,-339 939,-345 939,-351 939,-351 939,-380 939,-380 939,-386 933,-392 927,-392\"/>\n<text text-anchor=\"middle\" x=\"839\" y=\"-376.8\" font-family=\"Helvetica,sans-Serif\" font-size=\"14.00\" fill=\"#000000\">quantity &lt;= 3.5</text>\n<text text-anchor=\"middle\" x=\"839\" y=\"-361.8\" font-family=\"Helvetica,sans-Serif\" font-size=\"14.00\" fill=\"#000000\">samples = 100.0%</text>\n<text text-anchor=\"middle\" x=\"839\" y=\"-346.8\" font-family=\"Helvetica,sans-Serif\" font-size=\"14.00\" fill=\"#000000\">value = [0.543, 0.073, 0.384]</text>\n</g>\n<!-- 1 -->\n<g id=\"node2\" class=\"node\">\n<title>1</title>\n<path fill=\"#f4c8a9\" stroke=\"#000000\" d=\"M707,-303C707,-303 539,-303 539,-303 533,-303 527,-297 527,-291 527,-291 527,-262 527,-262 527,-256 533,-250 539,-250 539,-250 707,-250 707,-250 713,-250 719,-256 719,-262 719,-262 719,-291 719,-291 719,-297 713,-303 707,-303\"/>\n<text text-anchor=\"middle\" x=\"623\" y=\"-287.8\" font-family=\"Helvetica,sans-Serif\" font-size=\"14.00\" fill=\"#000000\">waterpoint_type &lt;= 2.5</text>\n<text text-anchor=\"middle\" x=\"623\" y=\"-272.8\" font-family=\"Helvetica,sans-Serif\" font-size=\"14.00\" fill=\"#000000\">samples = 88.2%</text>\n<text text-anchor=\"middle\" x=\"623\" y=\"-257.8\" font-family=\"Helvetica,sans-Serif\" font-size=\"14.00\" fill=\"#000000\">value = [0.608, 0.082, 0.31]</text>\n</g>\n<!-- 0&#45;&gt;1 -->\n<g id=\"edge1\" class=\"edge\">\n<title>0&#45;&gt;1</title>\n<path fill=\"none\" stroke=\"#000000\" d=\"M774.4855,-338.9176C750.1246,-328.88 722.2202,-317.3824 697.0534,-307.0127\"/>\n<polygon fill=\"#000000\" stroke=\"#000000\" points=\"698.1344,-303.6727 687.5551,-303.0991 695.4676,-310.1449 698.1344,-303.6727\"/>\n<text text-anchor=\"middle\" x=\"697.1651\" y=\"-322.4783\" font-family=\"Helvetica,sans-Serif\" font-size=\"14.00\" fill=\"#000000\">True</text>\n</g>\n<!-- 17160 -->\n<g id=\"node17\" class=\"node\">\n<title>17160</title>\n<path fill=\"#8946e7\" stroke=\"#000000\" d=\"M1134,-303C1134,-303 966,-303 966,-303 960,-303 954,-297 954,-291 954,-291 954,-262 954,-262 954,-256 960,-250 966,-250 966,-250 1134,-250 1134,-250 1140,-250 1146,-256 1146,-262 1146,-262 1146,-291 1146,-291 1146,-297 1140,-303 1134,-303\"/>\n<text text-anchor=\"middle\" x=\"1050\" y=\"-287.8\" font-family=\"Helvetica,sans-Serif\" font-size=\"14.00\" fill=\"#000000\">quantity &lt;= 4.5</text>\n<text text-anchor=\"middle\" x=\"1050\" y=\"-272.8\" font-family=\"Helvetica,sans-Serif\" font-size=\"14.00\" fill=\"#000000\">samples = 11.8%</text>\n<text text-anchor=\"middle\" x=\"1050\" y=\"-257.8\" font-family=\"Helvetica,sans-Serif\" font-size=\"14.00\" fill=\"#000000\">value = [0.052, 0.008, 0.94]</text>\n</g>\n<!-- 0&#45;&gt;17160 -->\n<g id=\"edge16\" class=\"edge\">\n<title>0&#45;&gt;17160</title>\n<path fill=\"none\" stroke=\"#000000\" d=\"M902.0212,-338.9176C925.8181,-328.88 953.0766,-317.3824 977.6608,-307.0127\"/>\n<polygon fill=\"#000000\" stroke=\"#000000\" points=\"979.0856,-310.2104 986.9392,-303.0991 976.3651,-303.7607 979.0856,-310.2104\"/>\n<text text-anchor=\"middle\" x=\"977.5215\" y=\"-322.5574\" font-family=\"Helvetica,sans-Serif\" font-size=\"14.00\" fill=\"#000000\">False</text>\n</g>\n<!-- 2 -->\n<g id=\"node3\" class=\"node\">\n<title>2</title>\n<path fill=\"#f0b78d\" stroke=\"#000000\" d=\"M390,-214C390,-214 214,-214 214,-214 208,-214 202,-208 202,-202 202,-202 202,-173 202,-173 202,-167 208,-161 214,-161 214,-161 390,-161 390,-161 396,-161 402,-167 402,-173 402,-173 402,-202 402,-202 402,-208 396,-214 390,-214\"/>\n<text text-anchor=\"middle\" x=\"302\" y=\"-198.8\" font-family=\"Helvetica,sans-Serif\" font-size=\"14.00\" fill=\"#000000\">extraction_type &lt;= 2.5</text>\n<text text-anchor=\"middle\" x=\"302\" y=\"-183.8\" font-family=\"Helvetica,sans-Serif\" font-size=\"14.00\" fill=\"#000000\">samples = 70.0%</text>\n<text text-anchor=\"middle\" x=\"302\" y=\"-168.8\" font-family=\"Helvetica,sans-Serif\" font-size=\"14.00\" fill=\"#000000\">value = [0.678, 0.079, 0.243]</text>\n</g>\n<!-- 1&#45;&gt;2 -->\n<g id=\"edge2\" class=\"edge\">\n<title>1&#45;&gt;2</title>\n<path fill=\"none\" stroke=\"#000000\" d=\"M527.1242,-249.9176C489.4008,-239.4585 445.9595,-227.414 407.3613,-216.7123\"/>\n<polygon fill=\"#000000\" stroke=\"#000000\" points=\"408.2306,-213.3214 397.659,-214.0223 406.3603,-220.0669 408.2306,-213.3214\"/>\n</g>\n<!-- 14157 -->\n<g id=\"node10\" class=\"node\">\n<title>14157</title>\n<path fill=\"#d3baf6\" stroke=\"#000000\" d=\"M711,-214C711,-214 535,-214 535,-214 529,-214 523,-208 523,-202 523,-202 523,-173 523,-173 523,-167 529,-161 535,-161 535,-161 711,-161 711,-161 717,-161 723,-167 723,-173 723,-173 723,-202 723,-202 723,-208 717,-214 711,-214\"/>\n<text text-anchor=\"middle\" x=\"623\" y=\"-198.8\" font-family=\"Helvetica,sans-Serif\" font-size=\"14.00\" fill=\"#000000\">waterpoint_type &lt;= 3.5</text>\n<text text-anchor=\"middle\" x=\"623\" y=\"-183.8\" font-family=\"Helvetica,sans-Serif\" font-size=\"14.00\" fill=\"#000000\">samples = 18.2%</text>\n<text text-anchor=\"middle\" x=\"623\" y=\"-168.8\" font-family=\"Helvetica,sans-Serif\" font-size=\"14.00\" fill=\"#000000\">value = [0.339, 0.094, 0.568]</text>\n</g>\n<!-- 1&#45;&gt;14157 -->\n<g id=\"edge9\" class=\"edge\">\n<title>1&#45;&gt;14157</title>\n<path fill=\"none\" stroke=\"#000000\" d=\"M623,-249.7971C623,-241.7887 623,-232.8597 623,-224.3198\"/>\n<polygon fill=\"#000000\" stroke=\"#000000\" points=\"626.5001,-224.1841 623,-214.1841 619.5001,-224.1841 626.5001,-224.1841\"/>\n</g>\n<!-- 3 -->\n<g id=\"node4\" class=\"node\">\n<title>3</title>\n<path fill=\"#efb082\" stroke=\"#000000\" d=\"M172,-125C172,-125 12,-125 12,-125 6,-125 0,-119 0,-113 0,-113 0,-84 0,-84 0,-78 6,-72 12,-72 12,-72 172,-72 172,-72 178,-72 184,-78 184,-84 184,-84 184,-113 184,-113 184,-119 178,-125 172,-125\"/>\n<text text-anchor=\"middle\" x=\"92\" y=\"-109.8\" font-family=\"Helvetica,sans-Serif\" font-size=\"14.00\" fill=\"#000000\">quantity &lt;= 2.5</text>\n<text text-anchor=\"middle\" x=\"92\" y=\"-94.8\" font-family=\"Helvetica,sans-Serif\" font-size=\"14.00\" fill=\"#000000\">samples = 46.3%</text>\n<text text-anchor=\"middle\" x=\"92\" y=\"-79.8\" font-family=\"Helvetica,sans-Serif\" font-size=\"14.00\" fill=\"#000000\">value = [0.704, 0.096, 0.2]</text>\n</g>\n<!-- 2&#45;&gt;3 -->\n<g id=\"edge3\" class=\"edge\">\n<title>2&#45;&gt;3</title>\n<path fill=\"none\" stroke=\"#000000\" d=\"M239.2775,-160.9176C215.5934,-150.88 188.464,-139.3824 163.9963,-129.0127\"/>\n<polygon fill=\"#000000\" stroke=\"#000000\" points=\"165.3349,-125.7787 154.7619,-125.0991 162.6034,-132.2238 165.3349,-125.7787\"/>\n</g>\n<!-- 9412 -->\n<g id=\"node7\" class=\"node\">\n<title>9412</title>\n<path fill=\"#f3c6a6\" stroke=\"#000000\" d=\"M390,-125C390,-125 214,-125 214,-125 208,-125 202,-119 202,-113 202,-113 202,-84 202,-84 202,-78 208,-72 214,-72 214,-72 390,-72 390,-72 396,-72 402,-78 402,-84 402,-84 402,-113 402,-113 402,-119 396,-125 390,-125\"/>\n<text text-anchor=\"middle\" x=\"302\" y=\"-109.8\" font-family=\"Helvetica,sans-Serif\" font-size=\"14.00\" fill=\"#000000\">payment_type &lt;= 1.5</text>\n<text text-anchor=\"middle\" x=\"302\" y=\"-94.8\" font-family=\"Helvetica,sans-Serif\" font-size=\"14.00\" fill=\"#000000\">samples = 23.7%</text>\n<text text-anchor=\"middle\" x=\"302\" y=\"-79.8\" font-family=\"Helvetica,sans-Serif\" font-size=\"14.00\" fill=\"#000000\">value = [0.629, 0.045, 0.326]</text>\n</g>\n<!-- 2&#45;&gt;9412 -->\n<g id=\"edge6\" class=\"edge\">\n<title>2&#45;&gt;9412</title>\n<path fill=\"none\" stroke=\"#000000\" d=\"M302,-160.7971C302,-152.7887 302,-143.8597 302,-135.3198\"/>\n<polygon fill=\"#000000\" stroke=\"#000000\" points=\"305.5001,-135.1841 302,-125.1841 298.5001,-135.1841 305.5001,-135.1841\"/>\n</g>\n<!-- 4 -->\n<g id=\"node5\" class=\"node\">\n<title>4</title>\n<path fill=\"#c0c0c0\" stroke=\"#000000\" d=\"M88,-36C88,-36 58,-36 58,-36 52,-36 46,-30 46,-24 46,-24 46,-12 46,-12 46,-6 52,0 58,0 58,0 88,0 88,0 94,0 100,-6 100,-12 100,-12 100,-24 100,-24 100,-30 94,-36 88,-36\"/>\n<text text-anchor=\"middle\" x=\"73\" y=\"-14.3\" font-family=\"Helvetica,sans-Serif\" font-size=\"14.00\" fill=\"#000000\">(...)</text>\n</g>\n<!-- 3&#45;&gt;4 -->\n<g id=\"edge4\" class=\"edge\">\n<title>3&#45;&gt;4</title>\n<path fill=\"none\" stroke=\"#000000\" d=\"M85.6733,-71.6947C83.7302,-63.462 81.5869,-54.3814 79.6244,-46.0667\"/>\n<polygon fill=\"#000000\" stroke=\"#000000\" points=\"82.9676,-44.9943 77.264,-36.0658 76.1548,-46.6024 82.9676,-44.9943\"/>\n</g>\n<!-- 4161 -->\n<g id=\"node6\" class=\"node\">\n<title>4161</title>\n<path fill=\"#c0c0c0\" stroke=\"#000000\" d=\"M160,-36C160,-36 130,-36 130,-36 124,-36 118,-30 118,-24 118,-24 118,-12 118,-12 118,-6 124,0 130,0 130,0 160,0 160,0 166,0 172,-6 172,-12 172,-12 172,-24 172,-24 172,-30 166,-36 160,-36\"/>\n<text text-anchor=\"middle\" x=\"145\" y=\"-14.3\" font-family=\"Helvetica,sans-Serif\" font-size=\"14.00\" fill=\"#000000\">(...)</text>\n</g>\n<!-- 3&#45;&gt;4161 -->\n<g id=\"edge5\" class=\"edge\">\n<title>3&#45;&gt;4161</title>\n<path fill=\"none\" stroke=\"#000000\" d=\"M109.6482,-71.6947C115.3697,-63.0046 121.713,-53.3698 127.4288,-44.6883\"/>\n<polygon fill=\"#000000\" stroke=\"#000000\" points=\"130.53,-46.3428 133.1058,-36.0658 124.6834,-42.4934 130.53,-46.3428\"/>\n</g>\n<!-- 9413 -->\n<g id=\"node8\" class=\"node\">\n<title>9413</title>\n<path fill=\"#c0c0c0\" stroke=\"#000000\" d=\"M264,-36C264,-36 234,-36 234,-36 228,-36 222,-30 222,-24 222,-24 222,-12 222,-12 222,-6 228,0 234,0 234,0 264,0 264,0 270,0 276,-6 276,-12 276,-12 276,-24 276,-24 276,-30 270,-36 264,-36\"/>\n<text text-anchor=\"middle\" x=\"249\" y=\"-14.3\" font-family=\"Helvetica,sans-Serif\" font-size=\"14.00\" fill=\"#000000\">(...)</text>\n</g>\n<!-- 9412&#45;&gt;9413 -->\n<g id=\"edge7\" class=\"edge\">\n<title>9412&#45;&gt;9413</title>\n<path fill=\"none\" stroke=\"#000000\" d=\"M284.3518,-71.6947C278.6303,-63.0046 272.287,-53.3698 266.5712,-44.6883\"/>\n<polygon fill=\"#000000\" stroke=\"#000000\" points=\"269.3166,-42.4934 260.8942,-36.0658 263.47,-46.3428 269.3166,-42.4934\"/>\n</g>\n<!-- 10514 -->\n<g id=\"node9\" class=\"node\">\n<title>10514</title>\n<path fill=\"#c0c0c0\" stroke=\"#000000\" d=\"M336,-36C336,-36 306,-36 306,-36 300,-36 294,-30 294,-24 294,-24 294,-12 294,-12 294,-6 300,0 306,0 306,0 336,0 336,0 342,0 348,-6 348,-12 348,-12 348,-24 348,-24 348,-30 342,-36 336,-36\"/>\n<text text-anchor=\"middle\" x=\"321\" y=\"-14.3\" font-family=\"Helvetica,sans-Serif\" font-size=\"14.00\" fill=\"#000000\">(...)</text>\n</g>\n<!-- 9412&#45;&gt;10514 -->\n<g id=\"edge8\" class=\"edge\">\n<title>9412&#45;&gt;10514</title>\n<path fill=\"none\" stroke=\"#000000\" d=\"M308.3267,-71.6947C310.2698,-63.462 312.4131,-54.3814 314.3756,-46.0667\"/>\n<polygon fill=\"#000000\" stroke=\"#000000\" points=\"317.8452,-46.6024 316.736,-36.0658 311.0324,-44.9943 317.8452,-46.6024\"/>\n</g>\n<!-- 14158 -->\n<g id=\"node11\" class=\"node\">\n<title>14158</title>\n<path fill=\"#a36fec\" stroke=\"#000000\" d=\"M600,-125C600,-125 432,-125 432,-125 426,-125 420,-119 420,-113 420,-113 420,-84 420,-84 420,-78 426,-72 432,-72 432,-72 600,-72 600,-72 606,-72 612,-78 612,-84 612,-84 612,-113 612,-113 612,-119 606,-125 600,-125\"/>\n<text text-anchor=\"middle\" x=\"516\" y=\"-109.8\" font-family=\"Helvetica,sans-Serif\" font-size=\"14.00\" fill=\"#000000\">source_type &lt;= 1.5</text>\n<text text-anchor=\"middle\" x=\"516\" y=\"-94.8\" font-family=\"Helvetica,sans-Serif\" font-size=\"14.00\" fill=\"#000000\">samples = 8.0%</text>\n<text text-anchor=\"middle\" x=\"516\" y=\"-79.8\" font-family=\"Helvetica,sans-Serif\" font-size=\"14.00\" fill=\"#000000\">value = [0.166, 0.06, 0.774]</text>\n</g>\n<!-- 14157&#45;&gt;14158 -->\n<g id=\"edge10\" class=\"edge\">\n<title>14157&#45;&gt;14158</title>\n<path fill=\"none\" stroke=\"#000000\" d=\"M590.8965,-160.7971C579.893,-151.6447 567.4439,-141.2898 555.8996,-131.6875\"/>\n<polygon fill=\"#000000\" stroke=\"#000000\" points=\"558.0072,-128.8881 548.0809,-125.1841 553.5308,-134.2697 558.0072,-128.8881\"/>\n</g>\n<!-- 15233 -->\n<g id=\"node14\" class=\"node\">\n<title>15233</title>\n<path fill=\"#fcf0e8\" stroke=\"#000000\" d=\"M810,-125C810,-125 642,-125 642,-125 636,-125 630,-119 630,-113 630,-113 630,-84 630,-84 630,-78 636,-72 642,-72 642,-72 810,-72 810,-72 816,-72 822,-78 822,-84 822,-84 822,-113 822,-113 822,-119 816,-125 810,-125\"/>\n<text text-anchor=\"middle\" x=\"726\" y=\"-109.8\" font-family=\"Helvetica,sans-Serif\" font-size=\"14.00\" fill=\"#000000\">longitude &lt;= 30.407</text>\n<text text-anchor=\"middle\" x=\"726\" y=\"-94.8\" font-family=\"Helvetica,sans-Serif\" font-size=\"14.00\" fill=\"#000000\">samples = 10.2%</text>\n<text text-anchor=\"middle\" x=\"726\" y=\"-79.8\" font-family=\"Helvetica,sans-Serif\" font-size=\"14.00\" fill=\"#000000\">value = [0.475, 0.12, 0.405]</text>\n</g>\n<!-- 14157&#45;&gt;15233 -->\n<g id=\"edge13\" class=\"edge\">\n<title>14157&#45;&gt;15233</title>\n<path fill=\"none\" stroke=\"#000000\" d=\"M653.9034,-160.7971C664.3936,-151.7327 676.2489,-141.4888 687.2712,-131.9647\"/>\n<polygon fill=\"#000000\" stroke=\"#000000\" points=\"689.8402,-134.3705 695.1184,-125.1841 685.2635,-129.0739 689.8402,-134.3705\"/>\n</g>\n<!-- 14159 -->\n<g id=\"node12\" class=\"node\">\n<title>14159</title>\n<path fill=\"#c0c0c0\" stroke=\"#000000\" d=\"M492,-36C492,-36 462,-36 462,-36 456,-36 450,-30 450,-24 450,-24 450,-12 450,-12 450,-6 456,0 462,0 462,0 492,0 492,0 498,0 504,-6 504,-12 504,-12 504,-24 504,-24 504,-30 498,-36 492,-36\"/>\n<text text-anchor=\"middle\" x=\"477\" y=\"-14.3\" font-family=\"Helvetica,sans-Serif\" font-size=\"14.00\" fill=\"#000000\">(...)</text>\n</g>\n<!-- 14158&#45;&gt;14159 -->\n<g id=\"edge11\" class=\"edge\">\n<title>14158&#45;&gt;14159</title>\n<path fill=\"none\" stroke=\"#000000\" d=\"M503.0136,-71.6947C498.8921,-63.1875 494.332,-53.7751 490.196,-45.2378\"/>\n<polygon fill=\"#000000\" stroke=\"#000000\" points=\"493.2622,-43.5392 485.7524,-36.0658 486.9626,-46.5913 493.2622,-43.5392\"/>\n</g>\n<!-- 14526 -->\n<g id=\"node13\" class=\"node\">\n<title>14526</title>\n<path fill=\"#c0c0c0\" stroke=\"#000000\" d=\"M564,-36C564,-36 534,-36 534,-36 528,-36 522,-30 522,-24 522,-24 522,-12 522,-12 522,-6 528,0 534,0 534,0 564,0 564,0 570,0 576,-6 576,-12 576,-12 576,-24 576,-24 576,-30 570,-36 564,-36\"/>\n<text text-anchor=\"middle\" x=\"549\" y=\"-14.3\" font-family=\"Helvetica,sans-Serif\" font-size=\"14.00\" fill=\"#000000\">(...)</text>\n</g>\n<!-- 14158&#45;&gt;14526 -->\n<g id=\"edge12\" class=\"edge\">\n<title>14158&#45;&gt;14526</title>\n<path fill=\"none\" stroke=\"#000000\" d=\"M526.9885,-71.6947C530.4384,-63.279 534.2515,-53.9774 537.7212,-45.5135\"/>\n<polygon fill=\"#000000\" stroke=\"#000000\" points=\"541.0395,-46.6461 541.5942,-36.0658 534.5626,-43.9909 541.0395,-46.6461\"/>\n</g>\n<!-- 15234 -->\n<g id=\"node15\" class=\"node\">\n<title>15234</title>\n<path fill=\"#c0c0c0\" stroke=\"#000000\" d=\"M704,-36C704,-36 674,-36 674,-36 668,-36 662,-30 662,-24 662,-24 662,-12 662,-12 662,-6 668,0 674,0 674,0 704,0 704,0 710,0 716,-6 716,-12 716,-12 716,-24 716,-24 716,-30 710,-36 704,-36\"/>\n<text text-anchor=\"middle\" x=\"689\" y=\"-14.3\" font-family=\"Helvetica,sans-Serif\" font-size=\"14.00\" fill=\"#000000\">(...)</text>\n</g>\n<!-- 15233&#45;&gt;15234 -->\n<g id=\"edge14\" class=\"edge\">\n<title>15233&#45;&gt;15234</title>\n<path fill=\"none\" stroke=\"#000000\" d=\"M713.6795,-71.6947C709.7694,-63.1875 705.4432,-53.7751 701.5193,-45.2378\"/>\n<polygon fill=\"#000000\" stroke=\"#000000\" points=\"704.66,-43.6903 697.3035,-36.0658 698.2997,-46.6137 704.66,-43.6903\"/>\n</g>\n<!-- 15591 -->\n<g id=\"node16\" class=\"node\">\n<title>15591</title>\n<path fill=\"#c0c0c0\" stroke=\"#000000\" d=\"M776,-36C776,-36 746,-36 746,-36 740,-36 734,-30 734,-24 734,-24 734,-12 734,-12 734,-6 740,0 746,0 746,0 776,0 776,0 782,0 788,-6 788,-12 788,-12 788,-24 788,-24 788,-30 782,-36 776,-36\"/>\n<text text-anchor=\"middle\" x=\"761\" y=\"-14.3\" font-family=\"Helvetica,sans-Serif\" font-size=\"14.00\" fill=\"#000000\">(...)</text>\n</g>\n<!-- 15233&#45;&gt;15591 -->\n<g id=\"edge15\" class=\"edge\">\n<title>15233&#45;&gt;15591</title>\n<path fill=\"none\" stroke=\"#000000\" d=\"M737.6545,-71.6947C741.3532,-63.1875 745.4456,-53.7751 749.1575,-45.2378\"/>\n<polygon fill=\"#000000\" stroke=\"#000000\" points=\"752.3677,-46.632 753.1453,-36.0658 745.9482,-43.8409 752.3677,-46.632\"/>\n</g>\n<!-- 17161 -->\n<g id=\"node18\" class=\"node\">\n<title>17161</title>\n<path fill=\"#853fe6\" stroke=\"#000000\" d=\"M1134,-214C1134,-214 966,-214 966,-214 960,-214 954,-208 954,-202 954,-202 954,-173 954,-173 954,-167 960,-161 966,-161 966,-161 1134,-161 1134,-161 1140,-161 1146,-167 1146,-173 1146,-173 1146,-202 1146,-202 1146,-208 1140,-214 1134,-214\"/>\n<text text-anchor=\"middle\" x=\"1050\" y=\"-198.8\" font-family=\"Helvetica,sans-Serif\" font-size=\"14.00\" fill=\"#000000\">latitude &lt;= &#45;4.831</text>\n<text text-anchor=\"middle\" x=\"1050\" y=\"-183.8\" font-family=\"Helvetica,sans-Serif\" font-size=\"14.00\" fill=\"#000000\">samples = 10.5%</text>\n<text text-anchor=\"middle\" x=\"1050\" y=\"-168.8\" font-family=\"Helvetica,sans-Serif\" font-size=\"14.00\" fill=\"#000000\">value = [0.024, 0.006, 0.97]</text>\n</g>\n<!-- 17160&#45;&gt;17161 -->\n<g id=\"edge17\" class=\"edge\">\n<title>17160&#45;&gt;17161</title>\n<path fill=\"none\" stroke=\"#000000\" d=\"M1050,-249.7971C1050,-241.7887 1050,-232.8597 1050,-224.3198\"/>\n<polygon fill=\"#000000\" stroke=\"#000000\" points=\"1053.5001,-224.1841 1050,-214.1841 1046.5001,-224.1841 1053.5001,-224.1841\"/>\n</g>\n<!-- 17534 -->\n<g id=\"node25\" class=\"node\">\n<title>17534</title>\n<path fill=\"#b489f0\" stroke=\"#000000\" d=\"M1456,-214C1456,-214 1288,-214 1288,-214 1282,-214 1276,-208 1276,-202 1276,-202 1276,-173 1276,-173 1276,-167 1282,-161 1288,-161 1288,-161 1456,-161 1456,-161 1462,-161 1468,-167 1468,-173 1468,-173 1468,-202 1468,-202 1468,-208 1462,-214 1456,-214\"/>\n<text text-anchor=\"middle\" x=\"1372\" y=\"-198.8\" font-family=\"Helvetica,sans-Serif\" font-size=\"14.00\" fill=\"#000000\">latitude &lt;= &#45;4.517</text>\n<text text-anchor=\"middle\" x=\"1372\" y=\"-183.8\" font-family=\"Helvetica,sans-Serif\" font-size=\"14.00\" fill=\"#000000\">samples = 1.3%</text>\n<text text-anchor=\"middle\" x=\"1372\" y=\"-168.8\" font-family=\"Helvetica,sans-Serif\" font-size=\"14.00\" fill=\"#000000\">value = [0.274, 0.02, 0.706]</text>\n</g>\n<!-- 17160&#45;&gt;17534 -->\n<g id=\"edge24\" class=\"edge\">\n<title>17160&#45;&gt;17534</title>\n<path fill=\"none\" stroke=\"#000000\" d=\"M1146.1745,-249.9176C1184.0154,-239.4585 1227.592,-227.414 1266.3105,-216.7123\"/>\n<polygon fill=\"#000000\" stroke=\"#000000\" points=\"1267.3369,-220.0599 1276.043,-214.0223 1265.4719,-213.3129 1267.3369,-220.0599\"/>\n</g>\n<!-- 17162 -->\n<g id=\"node19\" class=\"node\">\n<title>17162</title>\n<path fill=\"#833ce5\" stroke=\"#000000\" d=\"M1028,-125C1028,-125 852,-125 852,-125 846,-125 840,-119 840,-113 840,-113 840,-84 840,-84 840,-78 846,-72 852,-72 852,-72 1028,-72 1028,-72 1034,-72 1040,-78 1040,-84 1040,-84 1040,-113 1040,-113 1040,-119 1034,-125 1028,-125\"/>\n<text text-anchor=\"middle\" x=\"940\" y=\"-109.8\" font-family=\"Helvetica,sans-Serif\" font-size=\"14.00\" fill=\"#000000\">management &lt;= 11.5</text>\n<text text-anchor=\"middle\" x=\"940\" y=\"-94.8\" font-family=\"Helvetica,sans-Serif\" font-size=\"14.00\" fill=\"#000000\">samples = 8.1%</text>\n<text text-anchor=\"middle\" x=\"940\" y=\"-79.8\" font-family=\"Helvetica,sans-Serif\" font-size=\"14.00\" fill=\"#000000\">value = [0.014, 0.004, 0.983]</text>\n</g>\n<!-- 17161&#45;&gt;17162 -->\n<g id=\"edge18\" class=\"edge\">\n<title>17161&#45;&gt;17162</title>\n<path fill=\"none\" stroke=\"#000000\" d=\"M1016.9964,-160.7971C1005.6844,-151.6447 992.8862,-141.2898 981.0183,-131.6875\"/>\n<polygon fill=\"#000000\" stroke=\"#000000\" points=\"982.9559,-128.7531 972.9803,-125.1841 978.553,-134.195 982.9559,-128.7531\"/>\n</g>\n<!-- 17373 -->\n<g id=\"node22\" class=\"node\">\n<title>17373</title>\n<path fill=\"#8b48e7\" stroke=\"#000000\" d=\"M1246,-125C1246,-125 1070,-125 1070,-125 1064,-125 1058,-119 1058,-113 1058,-113 1058,-84 1058,-84 1058,-78 1064,-72 1070,-72 1070,-72 1246,-72 1246,-72 1252,-72 1258,-78 1258,-84 1258,-84 1258,-113 1258,-113 1258,-119 1252,-125 1246,-125\"/>\n<text text-anchor=\"middle\" x=\"1158\" y=\"-109.8\" font-family=\"Helvetica,sans-Serif\" font-size=\"14.00\" fill=\"#000000\">lga &lt;= 67.5</text>\n<text text-anchor=\"middle\" x=\"1158\" y=\"-94.8\" font-family=\"Helvetica,sans-Serif\" font-size=\"14.00\" fill=\"#000000\">samples = 2.4%</text>\n<text text-anchor=\"middle\" x=\"1158\" y=\"-79.8\" font-family=\"Helvetica,sans-Serif\" font-size=\"14.00\" fill=\"#000000\">value = [0.058, 0.016, 0.927]</text>\n</g>\n<!-- 17161&#45;&gt;17373 -->\n<g id=\"edge21\" class=\"edge\">\n<title>17161&#45;&gt;17373</title>\n<path fill=\"none\" stroke=\"#000000\" d=\"M1082.4036,-160.7971C1093.5098,-151.6447 1106.0753,-141.2898 1117.7275,-131.6875\"/>\n<polygon fill=\"#000000\" stroke=\"#000000\" points=\"1120.1279,-134.2447 1125.6193,-125.1841 1115.6762,-128.8427 1120.1279,-134.2447\"/>\n</g>\n<!-- 17163 -->\n<g id=\"node20\" class=\"node\">\n<title>17163</title>\n<path fill=\"#c0c0c0\" stroke=\"#000000\" d=\"M919,-36C919,-36 889,-36 889,-36 883,-36 877,-30 877,-24 877,-24 877,-12 877,-12 877,-6 883,0 889,0 889,0 919,0 919,0 925,0 931,-6 931,-12 931,-12 931,-24 931,-24 931,-30 925,-36 919,-36\"/>\n<text text-anchor=\"middle\" x=\"904\" y=\"-14.3\" font-family=\"Helvetica,sans-Serif\" font-size=\"14.00\" fill=\"#000000\">(...)</text>\n</g>\n<!-- 17162&#45;&gt;17163 -->\n<g id=\"edge19\" class=\"edge\">\n<title>17162&#45;&gt;17163</title>\n<path fill=\"none\" stroke=\"#000000\" d=\"M928.0125,-71.6947C924.2081,-63.1875 919.9988,-53.7751 916.1809,-45.2378\"/>\n<polygon fill=\"#000000\" stroke=\"#000000\" points=\"919.3566,-43.7657 912.0791,-36.0658 912.9665,-46.6234 919.3566,-43.7657\"/>\n</g>\n<!-- 17370 -->\n<g id=\"node21\" class=\"node\">\n<title>17370</title>\n<path fill=\"#c0c0c0\" stroke=\"#000000\" d=\"M991,-36C991,-36 961,-36 961,-36 955,-36 949,-30 949,-24 949,-24 949,-12 949,-12 949,-6 955,0 961,0 961,0 991,0 991,0 997,0 1003,-6 1003,-12 1003,-12 1003,-24 1003,-24 1003,-30 997,-36 991,-36\"/>\n<text text-anchor=\"middle\" x=\"976\" y=\"-14.3\" font-family=\"Helvetica,sans-Serif\" font-size=\"14.00\" fill=\"#000000\">(...)</text>\n</g>\n<!-- 17162&#45;&gt;17370 -->\n<g id=\"edge20\" class=\"edge\">\n<title>17162&#45;&gt;17370</title>\n<path fill=\"none\" stroke=\"#000000\" d=\"M951.9875,-71.6947C955.7919,-63.1875 960.0012,-53.7751 963.8191,-45.2378\"/>\n<polygon fill=\"#000000\" stroke=\"#000000\" points=\"967.0335,-46.6234 967.9209,-36.0658 960.6434,-43.7657 967.0335,-46.6234\"/>\n</g>\n<!-- 17374 -->\n<g id=\"node23\" class=\"node\">\n<title>17374</title>\n<path fill=\"#c0c0c0\" stroke=\"#000000\" d=\"M1136,-36C1136,-36 1106,-36 1106,-36 1100,-36 1094,-30 1094,-24 1094,-24 1094,-12 1094,-12 1094,-6 1100,0 1106,0 1106,0 1136,0 1136,0 1142,0 1148,-6 1148,-12 1148,-12 1148,-24 1148,-24 1148,-30 1142,-36 1136,-36\"/>\n<text text-anchor=\"middle\" x=\"1121\" y=\"-14.3\" font-family=\"Helvetica,sans-Serif\" font-size=\"14.00\" fill=\"#000000\">(...)</text>\n</g>\n<!-- 17373&#45;&gt;17374 -->\n<g id=\"edge22\" class=\"edge\">\n<title>17373&#45;&gt;17374</title>\n<path fill=\"none\" stroke=\"#000000\" d=\"M1145.6795,-71.6947C1141.7694,-63.1875 1137.4432,-53.7751 1133.5193,-45.2378\"/>\n<polygon fill=\"#000000\" stroke=\"#000000\" points=\"1136.66,-43.6903 1129.3035,-36.0658 1130.2997,-46.6137 1136.66,-43.6903\"/>\n</g>\n<!-- 17475 -->\n<g id=\"node24\" class=\"node\">\n<title>17475</title>\n<path fill=\"#c0c0c0\" stroke=\"#000000\" d=\"M1208,-36C1208,-36 1178,-36 1178,-36 1172,-36 1166,-30 1166,-24 1166,-24 1166,-12 1166,-12 1166,-6 1172,0 1178,0 1178,0 1208,0 1208,0 1214,0 1220,-6 1220,-12 1220,-12 1220,-24 1220,-24 1220,-30 1214,-36 1208,-36\"/>\n<text text-anchor=\"middle\" x=\"1193\" y=\"-14.3\" font-family=\"Helvetica,sans-Serif\" font-size=\"14.00\" fill=\"#000000\">(...)</text>\n</g>\n<!-- 17373&#45;&gt;17475 -->\n<g id=\"edge23\" class=\"edge\">\n<title>17373&#45;&gt;17475</title>\n<path fill=\"none\" stroke=\"#000000\" d=\"M1169.6545,-71.6947C1173.3532,-63.1875 1177.4456,-53.7751 1181.1575,-45.2378\"/>\n<polygon fill=\"#000000\" stroke=\"#000000\" points=\"1184.3677,-46.632 1185.1453,-36.0658 1177.9482,-43.8409 1184.3677,-46.632\"/>\n</g>\n<!-- 17535 -->\n<g id=\"node26\" class=\"node\">\n<title>17535</title>\n<path fill=\"#9e67eb\" stroke=\"#000000\" d=\"M1456,-125C1456,-125 1288,-125 1288,-125 1282,-125 1276,-119 1276,-113 1276,-113 1276,-84 1276,-84 1276,-78 1282,-72 1288,-72 1288,-72 1456,-72 1456,-72 1462,-72 1468,-78 1468,-84 1468,-84 1468,-113 1468,-113 1468,-119 1462,-125 1456,-125\"/>\n<text text-anchor=\"middle\" x=\"1372\" y=\"-109.8\" font-family=\"Helvetica,sans-Serif\" font-size=\"14.00\" fill=\"#000000\">lga &lt;= 53.5</text>\n<text text-anchor=\"middle\" x=\"1372\" y=\"-94.8\" font-family=\"Helvetica,sans-Serif\" font-size=\"14.00\" fill=\"#000000\">samples = 0.7%</text>\n<text text-anchor=\"middle\" x=\"1372\" y=\"-79.8\" font-family=\"Helvetica,sans-Serif\" font-size=\"14.00\" fill=\"#000000\">value = [0.171, 0.02, 0.809]</text>\n</g>\n<!-- 17534&#45;&gt;17535 -->\n<g id=\"edge25\" class=\"edge\">\n<title>17534&#45;&gt;17535</title>\n<path fill=\"none\" stroke=\"#000000\" d=\"M1372,-160.7971C1372,-152.7887 1372,-143.8597 1372,-135.3198\"/>\n<polygon fill=\"#000000\" stroke=\"#000000\" points=\"1375.5001,-135.1841 1372,-125.1841 1368.5001,-135.1841 1375.5001,-135.1841\"/>\n</g>\n<!-- 17632 -->\n<g id=\"node29\" class=\"node\">\n<title>17632</title>\n<path fill=\"#d9c3f7\" stroke=\"#000000\" d=\"M1674,-125C1674,-125 1498,-125 1498,-125 1492,-125 1486,-119 1486,-113 1486,-113 1486,-84 1486,-84 1486,-78 1492,-72 1498,-72 1498,-72 1674,-72 1674,-72 1680,-72 1686,-78 1686,-84 1686,-84 1686,-113 1686,-113 1686,-119 1680,-125 1674,-125\"/>\n<text text-anchor=\"middle\" x=\"1586\" y=\"-109.8\" font-family=\"Helvetica,sans-Serif\" font-size=\"14.00\" fill=\"#000000\">waterpoint_type &lt;= 2.5</text>\n<text text-anchor=\"middle\" x=\"1586\" y=\"-94.8\" font-family=\"Helvetica,sans-Serif\" font-size=\"14.00\" fill=\"#000000\">samples = 0.6%</text>\n<text text-anchor=\"middle\" x=\"1586\" y=\"-79.8\" font-family=\"Helvetica,sans-Serif\" font-size=\"14.00\" fill=\"#000000\">value = [0.398, 0.021, 0.581]</text>\n</g>\n<!-- 17534&#45;&gt;17632 -->\n<g id=\"edge28\" class=\"edge\">\n<title>17534&#45;&gt;17632</title>\n<path fill=\"none\" stroke=\"#000000\" d=\"M1435.9172,-160.9176C1460.0525,-150.88 1487.6985,-139.3824 1512.6323,-129.0127\"/>\n<polygon fill=\"#000000\" stroke=\"#000000\" points=\"1514.1533,-132.1708 1522.0426,-125.0991 1511.4653,-125.7075 1514.1533,-132.1708\"/>\n</g>\n<!-- 17536 -->\n<g id=\"node27\" class=\"node\">\n<title>17536</title>\n<path fill=\"#c0c0c0\" stroke=\"#000000\" d=\"M1351,-36C1351,-36 1321,-36 1321,-36 1315,-36 1309,-30 1309,-24 1309,-24 1309,-12 1309,-12 1309,-6 1315,0 1321,0 1321,0 1351,0 1351,0 1357,0 1363,-6 1363,-12 1363,-12 1363,-24 1363,-24 1363,-30 1357,-36 1351,-36\"/>\n<text text-anchor=\"middle\" x=\"1336\" y=\"-14.3\" font-family=\"Helvetica,sans-Serif\" font-size=\"14.00\" fill=\"#000000\">(...)</text>\n</g>\n<!-- 17535&#45;&gt;17536 -->\n<g id=\"edge26\" class=\"edge\">\n<title>17535&#45;&gt;17536</title>\n<path fill=\"none\" stroke=\"#000000\" d=\"M1360.0125,-71.6947C1356.2081,-63.1875 1351.9988,-53.7751 1348.1809,-45.2378\"/>\n<polygon fill=\"#000000\" stroke=\"#000000\" points=\"1351.3566,-43.7657 1344.0791,-36.0658 1344.9665,-46.6234 1351.3566,-43.7657\"/>\n</g>\n<!-- 17575 -->\n<g id=\"node28\" class=\"node\">\n<title>17575</title>\n<path fill=\"#c0c0c0\" stroke=\"#000000\" d=\"M1423,-36C1423,-36 1393,-36 1393,-36 1387,-36 1381,-30 1381,-24 1381,-24 1381,-12 1381,-12 1381,-6 1387,0 1393,0 1393,0 1423,0 1423,0 1429,0 1435,-6 1435,-12 1435,-12 1435,-24 1435,-24 1435,-30 1429,-36 1423,-36\"/>\n<text text-anchor=\"middle\" x=\"1408\" y=\"-14.3\" font-family=\"Helvetica,sans-Serif\" font-size=\"14.00\" fill=\"#000000\">(...)</text>\n</g>\n<!-- 17535&#45;&gt;17575 -->\n<g id=\"edge27\" class=\"edge\">\n<title>17535&#45;&gt;17575</title>\n<path fill=\"none\" stroke=\"#000000\" d=\"M1383.9875,-71.6947C1387.7919,-63.1875 1392.0012,-53.7751 1395.8191,-45.2378\"/>\n<polygon fill=\"#000000\" stroke=\"#000000\" points=\"1399.0335,-46.6234 1399.9209,-36.0658 1392.6434,-43.7657 1399.0335,-46.6234\"/>\n</g>\n<!-- 17633 -->\n<g id=\"node30\" class=\"node\">\n<title>17633</title>\n<path fill=\"#c0c0c0\" stroke=\"#000000\" d=\"M1565,-36C1565,-36 1535,-36 1535,-36 1529,-36 1523,-30 1523,-24 1523,-24 1523,-12 1523,-12 1523,-6 1529,0 1535,0 1535,0 1565,0 1565,0 1571,0 1577,-6 1577,-12 1577,-12 1577,-24 1577,-24 1577,-30 1571,-36 1565,-36\"/>\n<text text-anchor=\"middle\" x=\"1550\" y=\"-14.3\" font-family=\"Helvetica,sans-Serif\" font-size=\"14.00\" fill=\"#000000\">(...)</text>\n</g>\n<!-- 17632&#45;&gt;17633 -->\n<g id=\"edge29\" class=\"edge\">\n<title>17632&#45;&gt;17633</title>\n<path fill=\"none\" stroke=\"#000000\" d=\"M1574.0125,-71.6947C1570.2081,-63.1875 1565.9988,-53.7751 1562.1809,-45.2378\"/>\n<polygon fill=\"#000000\" stroke=\"#000000\" points=\"1565.3566,-43.7657 1558.0791,-36.0658 1558.9665,-46.6234 1565.3566,-43.7657\"/>\n</g>\n<!-- 17690 -->\n<g id=\"node31\" class=\"node\">\n<title>17690</title>\n<path fill=\"#c0c0c0\" stroke=\"#000000\" d=\"M1637,-36C1637,-36 1607,-36 1607,-36 1601,-36 1595,-30 1595,-24 1595,-24 1595,-12 1595,-12 1595,-6 1601,0 1607,0 1607,0 1637,0 1637,0 1643,0 1649,-6 1649,-12 1649,-12 1649,-24 1649,-24 1649,-30 1643,-36 1637,-36\"/>\n<text text-anchor=\"middle\" x=\"1622\" y=\"-14.3\" font-family=\"Helvetica,sans-Serif\" font-size=\"14.00\" fill=\"#000000\">(...)</text>\n</g>\n<!-- 17632&#45;&gt;17690 -->\n<g id=\"edge30\" class=\"edge\">\n<title>17632&#45;&gt;17690</title>\n<path fill=\"none\" stroke=\"#000000\" d=\"M1597.9875,-71.6947C1601.7919,-63.1875 1606.0012,-53.7751 1609.8191,-45.2378\"/>\n<polygon fill=\"#000000\" stroke=\"#000000\" points=\"1613.0335,-46.6234 1613.9209,-36.0658 1606.6434,-43.7657 1613.0335,-46.6234\"/>\n</g>\n</g>\n</svg>\n"
          },
          "metadata": {
            "tags": []
          }
        }
      ]
    },
    {
      "cell_type": "markdown",
      "metadata": {
        "id": "syHY33Wr2O9F"
      },
      "source": [
        "# VI. Communicate Results\n",
        "\n",
        "Feature importance"
      ]
    },
    {
      "cell_type": "code",
      "metadata": {
        "id": "D0RpRkqalde9"
      },
      "source": [
        ""
      ],
      "execution_count": null,
      "outputs": []
    },
    {
      "cell_type": "markdown",
      "metadata": {
        "id": "gln6sVSS4ZmQ"
      },
      "source": [
        "# Interlude: What is overfitting?\n",
        "\n",
        "- Let's look at the hyperparameter `max_depth`"
      ]
    },
    {
      "cell_type": "code",
      "metadata": {
        "id": "wOQt07BwUuRl"
      },
      "source": [
        "depths = range(2,32,2)\n",
        "\n",
        "train_acc = []\n",
        "val_acc = []\n",
        "\n",
        "for depth in depths:\n",
        "  tree_model = make_pipeline(\n",
        "      OrdinalEncoder(),\n",
        "      SimpleImputer(),\n",
        "      DecisionTreeClassifier(max_depth=depth, random_state=42)\n",
        "  )\n",
        "\n",
        "  tree_model.fit(X_train, y_train)\n",
        "\n",
        "  train_acc.append(tree_model.score(X_train, y_train))\n",
        "  val_acc.append(tree_model.score(X_val, y_val))"
      ],
      "execution_count": 14,
      "outputs": []
    },
    {
      "cell_type": "code",
      "metadata": {
        "colab": {
          "base_uri": "https://localhost:8080/",
          "height": 280
        },
        "id": "arqY_cITDxWy",
        "outputId": "0f8bd635-6101-404e-de36-1cb6702205dd"
      },
      "source": [
        "plt.plot(depths, train_acc, label='training')\n",
        "plt.plot(depths, val_acc, color='orange', label='validation')\n",
        "\n",
        "plt.xlabel('max_depth')\n",
        "plt.ylabel('accuracy')\n",
        "plt.legend();"
      ],
      "execution_count": 16,
      "outputs": [
        {
          "output_type": "display_data",
          "data": {
            "image/png": "[encoded data removed]",
            "text/plain": [
              "<Figure size 432x288 with 1 Axes>"
            ]
          },
          "metadata": {
            "tags": [],
            "needs_background": "light"
          }
        }
      ]
    },
    {
      "cell_type": "code",
      "metadata": {
        "id": "pESpf0TjD6pQ"
      },
      "source": [
        ""
      ],
      "execution_count": null,
      "outputs": []
    }
  ]
}